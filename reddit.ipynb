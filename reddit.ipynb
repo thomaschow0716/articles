{
 "cells": [
  {
   "cell_type": "code",
   "execution_count": 191,
   "id": "a70c2f59-618d-43e0-8a48-b6d70eb3ec9b",
   "metadata": {},
   "outputs": [],
   "source": [
    "import configparser\n",
    "\n",
    "config  = configparser.ConfigParser()\n",
    "config.read('config.ini')\n",
    "\n",
    "client_id = config['reddit']['CLIENT_ID']\n",
    "client_secret = config['reddit']['SECRET_KEY']\n",
    "\n",
    "user_agent = 'MyAPI/0.0.1'\n",
    "username = config['reddit']['username']\n",
    "password = config['reddit']['password']"
   ]
  },
  {
   "cell_type": "code",
   "execution_count": 192,
   "id": "5f6ea5d6-0cb5-4bad-9da0-c8705312d3bb",
   "metadata": {},
   "outputs": [],
   "source": [
    "import praw\n",
    "\n",
    "reddit = praw.Reddit(client_id = client_id,\n",
    "                    client_secret = client_secret,\n",
    "                    user_agent = user_agent,\n",
    "                    username = username,\n",
    "                    password = password,\n",
    "                    )"
   ]
  },
  {
   "cell_type": "code",
   "execution_count": 193,
   "id": "f55f9156-097f-4758-9ba2-9003d801a46d",
   "metadata": {},
   "outputs": [],
   "source": [
    "# hot = subred.hot(limit = 5)"
   ]
  },
  {
   "cell_type": "code",
   "execution_count": 194,
   "id": "68cc2496-44d2-46e8-b366-8f49b9d08968",
   "metadata": {},
   "outputs": [],
   "source": [
    "# type(hot)"
   ]
  },
  {
   "cell_type": "code",
   "execution_count": 195,
   "id": "f9de5948-38a6-4577-9c8a-7367c78a06f5",
   "metadata": {},
   "outputs": [],
   "source": [
    "# x = next(hot)\n",
    "# dir(x)"
   ]
  },
  {
   "cell_type": "code",
   "execution_count": 196,
   "id": "b9da4ead-dbc8-4c83-969f-50e54c63ab4d",
   "metadata": {},
   "outputs": [],
   "source": [
    "import pandas as pd\n",
    "df = pd.DataFrame(columns = ['title', 'text', 'link'])"
   ]
  },
  {
   "cell_type": "code",
   "execution_count": 197,
   "id": "c1baa370-705e-41c7-8bee-c344baa5fa05",
   "metadata": {},
   "outputs": [],
   "source": [
    "subred = reddit.subreddit('datascience')\n",
    "hot = subred.hot(limit = 200)\n",
    "for i in hot:\n",
    "    df = pd.concat([df, pd.DataFrame([{'title': i.title, 'text': i.selftext, 'link': 'https://www.reddit.com/' + i.permalink }])])\n"
   ]
  },
  {
   "cell_type": "code",
   "execution_count": 198,
   "id": "c5ab0d6d-0ce9-44b5-9c31-8a9d79e09a8a",
   "metadata": {},
   "outputs": [],
   "source": [
    "df.to_csv('reddit_posts.csv', index = False)"
   ]
  }
 ],
 "metadata": {
  "kernelspec": {
   "display_name": "Python 3 (ipykernel)",
   "language": "python",
   "name": "python3"
  },
  "language_info": {
   "codemirror_mode": {
    "name": "ipython",
    "version": 3
   },
   "file_extension": ".py",
   "mimetype": "text/x-python",
   "name": "python",
   "nbconvert_exporter": "python",
   "pygments_lexer": "ipython3",
   "version": "3.11.7"
  }
 },
 "nbformat": 4,
 "nbformat_minor": 5
}
