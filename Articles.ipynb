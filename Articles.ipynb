{
 "cells": [
  {
   "cell_type": "code",
   "execution_count": 37,
   "id": "716f9450-c6fb-43f5-925f-bfbbe01344ef",
   "metadata": {},
   "outputs": [],
   "source": [
    "import warnings\n",
    "warnings.filterwarnings(\"ignore\")\n",
    "\n",
    "import newspaper\n",
    "from newspaper.google_news import GoogleNewsSource\n",
    "\n",
    "source = GoogleNewsSource(\n",
    "    country=\"GB\",\n",
    "    period=\"7d\",\n",
    "    max_results=100, \n",
    "    number_threads = 3)\n",
    "\n",
    "source.build(top_news=False, keyword = 'Data Science')\n"
   ]
  },
  {
   "cell_type": "code",
   "execution_count": 35,
   "id": "6b3b8557-d1fd-48e3-868a-3948a565f60c",
   "metadata": {},
   "outputs": [
    {
     "name": "stderr",
     "output_type": "stream",
     "text": [
      "04/17/2024 09:01:05 PM - error buffer is not large enough while fetching: https://newsroom.unl.edu/wdn/templates_5.3/includes/global/favicon/favicon.ico refer: https://newsroom.unl.edu/announce/cse/17360/94829\n"
     ]
    },
    {
     "data": {
      "text/html": [
       "<div>\n",
       "<style scoped>\n",
       "    .dataframe tbody tr th:only-of-type {\n",
       "        vertical-align: middle;\n",
       "    }\n",
       "\n",
       "    .dataframe tbody tr th {\n",
       "        vertical-align: top;\n",
       "    }\n",
       "\n",
       "    .dataframe thead th {\n",
       "        text-align: right;\n",
       "    }\n",
       "</style>\n",
       "<table border=\"1\" class=\"dataframe\">\n",
       "  <thead>\n",
       "    <tr style=\"text-align: right;\">\n",
       "      <th></th>\n",
       "      <th>link</th>\n",
       "      <th>title</th>\n",
       "      <th>text</th>\n",
       "    </tr>\n",
       "  </thead>\n",
       "  <tbody>\n",
       "    <tr>\n",
       "      <th>0</th>\n",
       "      <td>https://www.theguardian.com/world/2024/apr/11/...</td>\n",
       "      <td>IDF colonel discusses ‘data science magic powd...</td>\n",
       "      <td>A video has surfaced of a senior official at I...</td>\n",
       "    </tr>\n",
       "    <tr>\n",
       "      <th>1</th>\n",
       "      <td>https://towardsdatascience.com/one-mindset-shi...</td>\n",
       "      <td>One Mindset Shift That Will Make You a Better ...</td>\n",
       "      <td>After transitioning out of quant finance, my f...</td>\n",
       "    </tr>\n",
       "    <tr>\n",
       "      <th>2</th>\n",
       "      <td>https://www.insurancebusinessmag.com/uk/news/c...</td>\n",
       "      <td>Ageas UK names new head of claims data and ana...</td>\n",
       "      <td>Ageas UK has named Philippa King (pictured abo...</td>\n",
       "    </tr>\n",
       "    <tr>\n",
       "      <th>3</th>\n",
       "      <td>https://www.insurancetimes.co.uk/news/ageas-uk...</td>\n",
       "      <td>Ageas UK appoints head of claims data and anal...</td>\n",
       "      <td>”I am excited to be taking on this new positio...</td>\n",
       "    </tr>\n",
       "    <tr>\n",
       "      <th>4</th>\n",
       "      <td>https://jpt.spe.org/uk-offshore-energy-data-an...</td>\n",
       "      <td>UK Offshore Energy Data and Digital Maturity S...</td>\n",
       "      <td>In 2023, Deloitte supported the Offshore Energ...</td>\n",
       "    </tr>\n",
       "    <tr>\n",
       "      <th>...</th>\n",
       "      <td>...</td>\n",
       "      <td>...</td>\n",
       "      <td>...</td>\n",
       "    </tr>\n",
       "    <tr>\n",
       "      <th>94</th>\n",
       "      <td>https://www.kdnuggets.com/ai-con-usa-navigate-...</td>\n",
       "      <td>AI Con USA: Navigate the Future of AI 2024</td>\n",
       "      <td>Partnership Content\\n\\nAI Con USA, happening J...</td>\n",
       "    </tr>\n",
       "    <tr>\n",
       "      <th>95</th>\n",
       "      <td>https://www.datanami.com/this-just-in/rivos-ra...</td>\n",
       "      <td>Rivos Raises More Than $250M Targeting Data An...</td>\n",
       "      <td>SANTA CLARA, Calif., April 16, 2024 — Rivos, a...</td>\n",
       "    </tr>\n",
       "    <tr>\n",
       "      <th>96</th>\n",
       "      <td>https://www.analyticsinsight.net/which-program...</td>\n",
       "      <td>Which Programming Language is the Backbone of ...</td>\n",
       "      <td>Exploring the Backbone of Data Science: The Ro...</td>\n",
       "    </tr>\n",
       "    <tr>\n",
       "      <th>97</th>\n",
       "      <td>https://www.analyticsinsight.net/ibm-free-cert...</td>\n",
       "      <td>IBM FREE Certification Courses in Data Science...</td>\n",
       "      <td>Free Certification Courses in Data Science Off...</td>\n",
       "    </tr>\n",
       "    <tr>\n",
       "      <th>98</th>\n",
       "      <td>https://viterbischool.usc.edu/news/2024/04/sop...</td>\n",
       "      <td>Sophomores Outshine Global Competitors in Adob...</td>\n",
       "      <td>Colin Wang (’26 Applied Mathematics/USC Dornsi...</td>\n",
       "    </tr>\n",
       "  </tbody>\n",
       "</table>\n",
       "<p>99 rows × 3 columns</p>\n",
       "</div>"
      ],
      "text/plain": [
       "                                                 link  \\\n",
       "0   https://www.theguardian.com/world/2024/apr/11/...   \n",
       "1   https://towardsdatascience.com/one-mindset-shi...   \n",
       "2   https://www.insurancebusinessmag.com/uk/news/c...   \n",
       "3   https://www.insurancetimes.co.uk/news/ageas-uk...   \n",
       "4   https://jpt.spe.org/uk-offshore-energy-data-an...   \n",
       "..                                                ...   \n",
       "94  https://www.kdnuggets.com/ai-con-usa-navigate-...   \n",
       "95  https://www.datanami.com/this-just-in/rivos-ra...   \n",
       "96  https://www.analyticsinsight.net/which-program...   \n",
       "97  https://www.analyticsinsight.net/ibm-free-cert...   \n",
       "98  https://viterbischool.usc.edu/news/2024/04/sop...   \n",
       "\n",
       "                                                title  \\\n",
       "0   IDF colonel discusses ‘data science magic powd...   \n",
       "1   One Mindset Shift That Will Make You a Better ...   \n",
       "2   Ageas UK names new head of claims data and ana...   \n",
       "3   Ageas UK appoints head of claims data and anal...   \n",
       "4   UK Offshore Energy Data and Digital Maturity S...   \n",
       "..                                                ...   \n",
       "94         AI Con USA: Navigate the Future of AI 2024   \n",
       "95  Rivos Raises More Than $250M Targeting Data An...   \n",
       "96  Which Programming Language is the Backbone of ...   \n",
       "97  IBM FREE Certification Courses in Data Science...   \n",
       "98  Sophomores Outshine Global Competitors in Adob...   \n",
       "\n",
       "                                                 text  \n",
       "0   A video has surfaced of a senior official at I...  \n",
       "1   After transitioning out of quant finance, my f...  \n",
       "2   Ageas UK has named Philippa King (pictured abo...  \n",
       "3   ”I am excited to be taking on this new positio...  \n",
       "4   In 2023, Deloitte supported the Offshore Energ...  \n",
       "..                                                ...  \n",
       "94  Partnership Content\\n\\nAI Con USA, happening J...  \n",
       "95  SANTA CLARA, Calif., April 16, 2024 — Rivos, a...  \n",
       "96  Exploring the Backbone of Data Science: The Ro...  \n",
       "97  Free Certification Courses in Data Science Off...  \n",
       "98  Colin Wang (’26 Applied Mathematics/USC Dornsi...  \n",
       "\n",
       "[99 rows x 3 columns]"
      ]
     },
     "execution_count": 35,
     "metadata": {},
     "output_type": "execute_result"
    }
   ],
   "source": [
    "import pandas as pd\n",
    "\n",
    "articles_df = pd.DataFrame(columns = ['link', 'title', 'text'])\n",
    "\n",
    "for a in source.articles:\n",
    "    try:\n",
    "        a.download()\n",
    "        a.parse()\n",
    "        dict = pd.DataFrame({'link':[a.url],\n",
    "                             'title':[a.title],\n",
    "                             'text':[a.text]})\n",
    "        \n",
    "        articles_df = pd.concat([articles_df, dict], ignore_index=True)\n",
    "    except:\n",
    "        pass\n",
    "    \n",
    "articles_df"
   ]
  },
  {
   "cell_type": "code",
   "execution_count": 39,
   "id": "1ceb9cf4-46cb-444a-a89f-4989f5ff3960",
   "metadata": {},
   "outputs": [],
   "source": [
    "articles_df.to_csv('articles.csv', index = False)"
   ]
  },
  {
   "cell_type": "code",
   "execution_count": 43,
   "id": "8d4569a5-e036-4d94-9b5a-e460272b60d7",
   "metadata": {},
   "outputs": [
    {
     "data": {
      "text/plain": [
       "'https://www.theguardian.com/world/2024/apr/11/idf-colonel-discusses-data-science-magic-powder-for-locating-terrorists'"
      ]
     },
     "execution_count": 43,
     "metadata": {},
     "output_type": "execute_result"
    }
   ],
   "source": [
    "articles_df['link'][0]"
   ]
  },
  {
   "cell_type": "code",
   "execution_count": 44,
   "id": "e342d51c-ff7b-4710-973b-a36f0329e173",
   "metadata": {},
   "outputs": [
    {
     "data": {
      "text/plain": [
       "'A video has surfaced of a senior official at Israel’s cyber intelligence agency, Unit 8200, talking last year about the use of machine learning “magic powder” to help identify Hamas targets in Gaza.\\n\\nThe footage raises questions about the accuracy of a recent statement about use of artificial intelligence (AI) by the Israeli Defense Forces (IDF), which said it “does not use an artificial intelligence system that identifies terrorist operatives or tries to predict whether a person is a terrorist”.\\n\\nHowever, in the video, the head of data science and AI at Unit 8200 – named only as “Colonel Yoav” – said he would reveal an “example of one of the tools we use” before describing how the intelligence division used machine learning techniques in Israel’s May 2021 offensive in Gaza for “finding new terrorists”.\\n\\n“Let’s say we have some terrorists that form a group and we know only some of them,” he said. “By practising our data science magic powder we are able to find the rest of them.”\\n\\nThe descriptions in the video of technology used by Unit 8200 bear similarities with recent testimony from six IDF insiders about their use of an AI tool called “Lavender” during its offensive on Hamas. They said that the AI-generated database had been used to assist intelligence officers involved in the bombing campaign in Gaza, helping identify tens of thousands of potential human targets.\\n\\nIn its rebuttal, the IDF said some of the accounts were “baseless”. However, the accounts are consistent with the remarks by Yoav during an AI conference at Tel Aviv university in February last year. The video, in which Yoav can be heard talking but not seen, was hosted on the university’s YouTube channel, and until recently it had fewer than 100 views.\\n\\nAs he took to the stage wearing a military uniform, the audience was instructed not to take any photos of Yoav or record his presentation. “It’s good because it’s a bad hair day for me,” he joked.\\n\\nIn the 10-minute presentation – titled “digital transformation and artificial intelligence in the intelligence domain” – the colonel offered a rare insight into how opaque AI systems are being used by secretive military and intelligence bodies.\\n\\nWhen using AI to predict whether someone is a terrorist, he explained, Unit 8200 takes information it has about people it believes are members of terrorist groups and aims “to find the rest of the group”.\\n\\nReferring to a specific example, the official said that in the IDF’s May 2021 military operation in Gaza, his department applied this principle to “find Hamas squad missile commanders and anti-tank missile terrorists in Gaza in order to operate against them”.\\n\\nHe explained that using a form of machine learning – known as “positive unlabelled learning” – “we take the original sub-group, we calculate their close circles, we then calculate relevant features, and at last we rank the results and determine the threshold.”\\n\\nThe colonel said intelligence officers’ feedback is used “to enrich and improve our algorithm” and stressed that “people of flesh and blood” make decisions. “Ethically speaking we put a lot of emphasis on this,” he said, adding that “these tools are meant to help break their barriers”.\\n\\nAccording to Yoav, Unit 8200 was able to break “the human barrier” during the May 2021 offensive when it managed to produce more than 200 new targets. “There were times when this amount took us almost a year,” he said.\\n\\nContacted for comment about the video, the IDF said the colonel’s participation in the conference had been approved by the military. However, a spokesperson denied that his remarks conflict with the IDF’s recent denials about its use of AI. In a subtle change of wording not used in its original statement, the IDF told the Guardian its AI systems do not “choose targets” for attack.\\n\\n“The IDF never denied the existence of a database of operatives in terrorist organisations, that cross-checks existing information on such operatives,” it said. “At the same time, the IDF fully stands by its statement that it does not use AI systems that choose targets for attack, and that the database in question is not a list of operatives eligible to attack. There is no contradiction.”\\n\\nIn their testimony, the six intelligence officers who spoke out last week said that the Lavender tool had been used to help identify potential targets at an unprecedented scale and pace. The IDF was not accused of using systems that automatically select targets for attack.\\n\\nFour of the sources said that, at one stage early in the war, Lavender listed as many as 37,000 men in the enclave who had been linked by the AI system to Hamas or Palestinian Islamic Jihad. None of the sources denied that humans were involved in the process of authorising strikes, although some confessed to minimal human oversight.\\n\\n“I would invest 20 seconds for each target at this stage, and do dozens of them every day,” one intelligence officer said. “I had zero added-value as a human, apart from being a stamp of approval. It saved a lot of time.”\\n\\nTheir accounts were published by the Israeli-Palestinian publication +972 magazine, its Hebrew-language outlet Local Call and the Guardian.\\n\\nCol Yoav’s description of the partnership between AI and intelligence personnel echoes a model for targeting operations envisioned by his commander, the Unit 8200 chief Yossi Sariel, who the Guardian revealed left his identity exposed online when he secretly authored a book published in 2021, The Human Machine Team.\\n\\nAt one stage, the colonel explained that the AI and data science department he runs at Unit 8200 is also known internally as “the human machine integration centre”.\\n\\nSpeaking eight months before the IDF commenced operations in Gaza after the Hamas-led 7 October attacks, the colonel spoke optimistically about how the IDF is moving “from the postcard age to the digital era” where “suddenly you can react during battle with applied data-science driven solutions”.\\n\\nLooking ahead, he added: “I’m curious with respect to how will the next operation look like, digitally speaking”.'"
      ]
     },
     "execution_count": 44,
     "metadata": {},
     "output_type": "execute_result"
    }
   ],
   "source": [
    "articles_df['text'][0]"
   ]
  }
 ],
 "metadata": {
  "kernelspec": {
   "display_name": "Python 3 (ipykernel)",
   "language": "python",
   "name": "python3"
  },
  "language_info": {
   "codemirror_mode": {
    "name": "ipython",
    "version": 3
   },
   "file_extension": ".py",
   "mimetype": "text/x-python",
   "name": "python",
   "nbconvert_exporter": "python",
   "pygments_lexer": "ipython3",
   "version": "3.11.7"
  }
 },
 "nbformat": 4,
 "nbformat_minor": 5
}
