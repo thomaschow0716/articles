{
 "cells": [
  {
   "cell_type": "code",
   "execution_count": 4,
   "id": "716f9450-c6fb-43f5-925f-bfbbe01344ef",
   "metadata": {},
   "outputs": [],
   "source": [
    "import warnings\n",
    "warnings.filterwarnings(\"ignore\")\n",
    "\n",
    "import pandas as pd"
   ]
  },
  {
   "cell_type": "code",
   "execution_count": 70,
   "id": "6fbe227b-31e5-4a64-998e-dd0621fc44a9",
   "metadata": {},
   "outputs": [
    {
     "data": {
      "text/plain": [
       "'https://www.datasciencecentral.com/dsc-weekly-16-april-2024/'"
      ]
     },
     "execution_count": 70,
     "metadata": {},
     "output_type": "execute_result"
    }
   ],
   "source": [
    "links = []\n",
    "\n",
    "import requests\n",
    "\n",
    "from bs4 import BeautifulSoup\n",
    "import time\n",
    "\n",
    "url  = \"https://www.datasciencecentral.com/articles/\"\n",
    "response = requests.get(url)\n",
    "\n",
    "# Parse the HTML code using BeautifulSoup\n",
    "soup = BeautifulSoup(response.content, 'html.parser')\n",
    "\n",
    "link = soup.find_all(class_=\"nv-post-thumbnail-wrap img-wrap\")\n",
    "link[0].next['href']"
   ]
  },
  {
   "cell_type": "code",
   "execution_count": 7,
   "id": "a6c091b7-27cc-47aa-9183-102f89cc596d",
   "metadata": {},
   "outputs": [
    {
     "name": "stdout",
     "output_type": "stream",
     "text": [
      "['https://www.datasciencecentral.com/dsc-weekly-16-april-2024/', 'https://www.datasciencecentral.com/using-window-functions-for-advanced-data-analysis/', 'https://www.datasciencecentral.com/get-ready-for-future-innovations-with-large-language-models/', 'https://www.datasciencecentral.com/5-mistakes-to-avoid-in-cmmc-compliance/', 'https://www.datasciencecentral.com/building-reliable-and-efficient-etl-pipelines-best-practices-for-data-wranglers/', 'https://www.datasciencecentral.com/how-is-machine-learning-changing-the-landscape-of-fintech/', 'https://www.datasciencecentral.com/the-new-era-of-data-handling-tools-that-transform-business-strategies/', 'https://www.datasciencecentral.com/dsc-weekly-9-april-2024/', 'https://www.datasciencecentral.com/growth-of-open-source-ai-technology-and-democratizing-innovations/', 'https://www.datasciencecentral.com/how-data-impacts-the-digitalization-of-industries/']\n"
     ]
    }
   ],
   "source": [
    "from selenium import webdriver\n",
    "import os\n",
    "from selenium.webdriver import chrome\n",
    "from selenium.webdriver.common.by import By\n",
    "\n",
    "from selenium.webdriver.common.action_chains import ActionChains\n",
    "\n",
    "import requests\n",
    "\n",
    "from bs4 import BeautifulSoup\n",
    "import time\n",
    "\n",
    "driver = webdriver.Chrome()\n",
    "\n",
    "driver.get('https://www.datasciencecentral.com/articles/')\n",
    "\n",
    "driver.implicitly_wait(15)\n",
    "\n",
    "# Switch to iframe\n",
    "frame = driver.find_elements(By.TAG_NAME, 'iframe') \n",
    "driver.switch_to.frame(\"sp_message_iframe_1100486\")\n",
    "\n",
    "# Full xpath\n",
    "button = driver.find_element(By.XPATH, '/html/body/div/div[2]/div[4]/button[3]')\n",
    "\n",
    "actions = ActionChains(driver)\n",
    "actions.click(button)\n",
    "\n",
    "actions.perform()\n",
    "\n",
    "# time.sleep(3)\n",
    "# previous_height = driver.execute_script('return document.body.scrollHeight')\n",
    "\n",
    "# # Scrolling\n",
    "# while True:\n",
    "#     driver.execute_script('window.scrollTo(0, document.body.scrollHeight);')\n",
    "\n",
    "#     time.sleep(3)\n",
    "\n",
    "#     new_height = driver.execute_script('return document.body.scrollHeight')\n",
    "#     if new_height == previous_height:\n",
    "#         break\n",
    "\n",
    "links = []\n",
    "\n",
    "soup=BeautifulSoup(driver.page_source)\n",
    "\n",
    "link = soup.find_all(class_=\"nv-post-thumbnail-wrap img-wrap\")\n",
    "\n",
    "for l in link: \n",
    "    links.append(l.next['href'])\n",
    "\n",
    "    \n",
    "driver.close()\n",
    "\n",
    "print(links)"
   ]
  },
  {
   "cell_type": "code",
   "execution_count": 2,
   "id": "b041198c-3313-4a7a-986f-e5f6af39f1cd",
   "metadata": {},
   "outputs": [
    {
     "ename": "NameError",
     "evalue": "name 'links' is not defined",
     "output_type": "error",
     "traceback": [
      "\u001b[1;31m---------------------------------------------------------------------------\u001b[0m",
      "\u001b[1;31mNameError\u001b[0m                                 Traceback (most recent call last)",
      "Cell \u001b[1;32mIn[2], line 1\u001b[0m\n\u001b[1;32m----> 1\u001b[0m links\n",
      "\u001b[1;31mNameError\u001b[0m: name 'links' is not defined"
     ]
    }
   ],
   "source": [
    "links"
   ]
  },
  {
   "cell_type": "code",
   "execution_count": 3,
   "id": "1ceb9cf4-46cb-444a-a89f-4989f5ff3960",
   "metadata": {},
   "outputs": [],
   "source": [
    "articles_df.to_csv('articles.csv', index = False)"
   ]
  }
 ],
 "metadata": {
  "kernelspec": {
   "display_name": "Python 3 (ipykernel)",
   "language": "python",
   "name": "python3"
  },
  "language_info": {
   "codemirror_mode": {
    "name": "ipython",
    "version": 3
   },
   "file_extension": ".py",
   "mimetype": "text/x-python",
   "name": "python",
   "nbconvert_exporter": "python",
   "pygments_lexer": "ipython3",
   "version": "3.11.7"
  }
 },
 "nbformat": 4,
 "nbformat_minor": 5
}
