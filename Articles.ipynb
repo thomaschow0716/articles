{
 "cells": [
  {
   "cell_type": "code",
   "execution_count": 39,
   "id": "b367d04b-7aa4-485a-8ea0-8221bdd6632c",
   "metadata": {},
   "outputs": [
    {
     "name": "stderr",
     "output_type": "stream",
     "text": [
      "04/17/2024 03:26:32 PM - [REQUEST FAILED] 404 Client Error: Not Found for url: https://www.nytimes.com/feed\n",
      "04/17/2024 03:26:32 PM - [REQUEST FAILED] 404 Client Error: Not Found for url: https://www.nytimes.com/feeds\n"
     ]
    },
    {
     "name": "stdout",
     "output_type": "stream",
     "text": [
      "['https://www.nytimes.com/search?dropmab=false&query=data%20science&sort=best', 'https://www.nytimes.com']\n"
     ]
    }
   ],
   "source": [
    "import newspaper\n",
    "\n",
    "cnn_paper = newspaper.build('https://www.nytimes.com/search?dropmab=false&query=data%20science&sort=best', number_threads=3)\n",
    "print(cnn_paper.category_urls())"
   ]
  },
  {
   "cell_type": "code",
   "execution_count": 32,
   "id": "716f9450-c6fb-43f5-925f-bfbbe01344ef",
   "metadata": {},
   "outputs": [
    {
     "name": "stdout",
     "output_type": "stream",
     "text": [
      "['https://news.unchealthcare.org/2024/04/haendel-to-join-unc-genetics-pediatrics-data-science-society-to-advance-precision-medicine-in-nc/', 'https://towardsdatascience.com/one-mindset-shift-that-will-make-you-a-better-data-scientist-a015f8000ad7', 'https://i2db.wustl.edu/calendar_event/2024-annual-i2db-symposium/', 'https://hub.jhu.edu/2024/04/11/data-science-institute-plans-presented-to-city-panel/', 'https://news.uark.edu/articles/70151/arkansas-data-science-association-presents-march-madness-challenge-celebration-april-16']\n"
     ]
    }
   ],
   "source": [
    "import newspaper\n",
    "from newspaper.google_news import GoogleNewsSource\n",
    "\n",
    "source = GoogleNewsSource(\n",
    "    country=\"US\",\n",
    "    period=\"7d\",\n",
    "    max_results=5, \n",
    "    number_threads = 3)\n",
    "\n",
    "source.build(top_news=False, keyword = 'Data Science')\n",
    "\n",
    "print(source.article_urls())"
   ]
  },
  {
   "cell_type": "code",
   "execution_count": 33,
   "id": "b627879e-aa11-4696-bcdf-47381b4f5e3b",
   "metadata": {},
   "outputs": [],
   "source": [
    "s = source.download_articles()"
   ]
  },
  {
   "cell_type": "code",
   "execution_count": 40,
   "id": "d58d08a7-a85c-410f-9001-a28941b324e2",
   "metadata": {},
   "outputs": [
    {
     "data": {
      "text/plain": [
       "<newspaper.article.Article at 0x1fcefab4f50>"
      ]
     },
     "execution_count": 40,
     "metadata": {},
     "output_type": "execute_result"
    }
   ],
   "source": [
    "s[3].parse()"
   ]
  },
  {
   "cell_type": "code",
   "execution_count": 39,
   "id": "1a5766a9-274a-486b-a706-1cefadbde45b",
   "metadata": {},
   "outputs": [
    {
     "name": "stdout",
     "output_type": "stream",
     "text": [
      "Johns Hopkins University on Thursday presented design plans for the Data Science and Artificial Intelligence (DSAI) facility to the Baltimore City Department of Planning's Urban Planning Architecture Advisory Panel (UDAAP).\n",
      "\n",
      "DSAI, a cornerstone of JHU's Ten for One strategic plan, will be a leading hub for data science and artificial intelligence to drive research and teaching in every corner of the university and magnify our impact in every corner of the world. The institute will bring together world-class experts in artificial intelligence, machine learning, applied mathematics, computer engineering and computer science to fuel data-driven discovery in support of research activities across the institution.\n",
      "\n",
      "In all, 80 new affiliated faculty will join JHU's Whiting School of Engineering to support the institute's pursuits, in addition to 30 new Bloomberg Distinguished Professors with substantial cross-disciplinary expertise to ensure the impact of the new institute is felt across the university.\n",
      "\n",
      "The initiative is led by the Whiting School of Engineering and the new facility will sit adjacent to existing engineering buildings on the south side of the Homewood campus. \"The basic idea is to place the people who generate the data beside the people who analyze the data,\" said Whiting School Dean Ed Schlesinger.\n",
      "\n",
      "The two-building facility will be organized into \"neighborhoods,\" purposely collocating disciplines including bioengineering, materials, energy and environment with thematic wings dedicated to areas such as health and medicine, scientific discovery, and engineering systems. Unlike traditional academic silos, these groupings will create a world-class AI space for cross-disciplinary research and translation and will help establish an innovation district in the heart of Baltimore.\n",
      "\n",
      "Just this fall, the federal government designated the greater Baltimore region as a \"Tech Hub.\" Through DSAI, Hopkins can make vital contributions to Baltimore's growth as a tech hub, creating long-term jobs, attracting top talent, and spurring the growth of new companies that will compete in one of the world's most promising fields.\n",
      "\n",
      "\"This institute intends to spur a virtuous cycle of new research, product innovation, startups, private investment, and jobs,\" says Christy Wyskiel, senior adviser to the president for innovation and entrepreneurship. \"Our vision is that researchers, entrepreneurs, investors, and companies will look to Baltimore as the place to develop and launch products and companies based on data science and AI technology.\"\n",
      "\n",
      "Design architect and architect of record, ZGF, is designing the DSAI facility to appear as a series of smaller buildings arranged along the site, creatively dispersed and rotated to provide setbacks featuring a raised hillside, trees, and rich landscaping along Remington Avenue.\n",
      "\n",
      "\"This is an amazing site, part of the main campus, yet so connected to the experience of Remington,\" said ZGF design architect Vlad Pajkic. \"The building's concept, based on the deliberate and inventive arrangement of thematic research neighborhoods, will give the facility a more human scale, appropriate for its location and its function.\"\n",
      "\n",
      "The building will target a USGBC LEED Gold Rating. With on-site energy production and electrification, DSAI will be the Homewood campus' first net zero ready carbon facility (excluding emergency generation as mandated by the City of Baltimore). The design, especially storm water and erosion control, will strictly abide by the city's rigorous Site Plan Review Committee process, which prohibits overcharge into adjacent natural habitats or city infrastructure. No building or associated site work will encroach on the university's Forest Conservation Easement.\n",
      "\n",
      "This project will include significant improvements to the Remington Avenue streetscape and replace three existing structures: the temporary facility that housed the Early Learning Center since 2015, a chiller plant facility that until recently served the Wyman Park Precinct, and the central plant that served the original Merchant Marine Hospital complex. The new facility and the associated open greenspace will also complement the soon-to-be-completed SNF Agora Institute.\n",
      "\n",
      "The Whiting-Turner Contracting Company and Mahogany Inc. are managing construction for the project, which is anticipated to add 500 trade jobs to boost Baltimore's economy and will indirectly contribute to thousands of new jobs around the city. In alignment with JHU's HopkinsLocal program, the project will also include 20% MBE/WBE and 20% LBE participation. According to Jeff Hargrave, founder and president of Mahogany Inc.: \"Being part of such a transformative project means everything to Mahogany and our city. Johns Hopkins' commitment to improving our city is truly remarkable.\"\n",
      "\n",
      "Preparatory work is scheduled to begin in fall 2024. JHU anticipates the buildings will be occupied by summer 2029.\n"
     ]
    }
   ],
   "source": [
    "print(s[3].text)"
   ]
  }
 ],
 "metadata": {
  "kernelspec": {
   "display_name": "Python 3 (ipykernel)",
   "language": "python",
   "name": "python3"
  },
  "language_info": {
   "codemirror_mode": {
    "name": "ipython",
    "version": 3
   },
   "file_extension": ".py",
   "mimetype": "text/x-python",
   "name": "python",
   "nbconvert_exporter": "python",
   "pygments_lexer": "ipython3",
   "version": "3.11.7"
  }
 },
 "nbformat": 4,
 "nbformat_minor": 5
}
