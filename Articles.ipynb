{
 "cells": [
  {
   "cell_type": "code",
   "execution_count": 77,
   "id": "716f9450-c6fb-43f5-925f-bfbbe01344ef",
   "metadata": {},
   "outputs": [],
   "source": [
    "import warnings\n",
    "warnings.filterwarnings(\"ignore\")\n",
    "\n",
    "import pandas as pd"
   ]
  },
  {
   "cell_type": "code",
   "execution_count": 2,
   "id": "a6c091b7-27cc-47aa-9183-102f89cc596d",
   "metadata": {},
   "outputs": [],
   "source": [
    "from selenium import webdriver\n",
    "import os\n",
    "from selenium.webdriver import chrome\n",
    "from selenium.webdriver.common.by import By\n",
    "\n",
    "from selenium.webdriver.common.action_chains import ActionChains\n",
    "\n",
    "import requests\n",
    "\n",
    "from bs4 import BeautifulSoup\n",
    "import time\n",
    "\n",
    "driver = webdriver.Chrome()\n",
    "\n",
    "driver.get('https://www.datasciencecentral.com/articles/')\n",
    "\n",
    "driver.implicitly_wait(15)\n",
    "\n",
    "# Switch to iframe\n",
    "frame = driver.find_elements(By.TAG_NAME, 'iframe') \n",
    "driver.switch_to.frame(\"sp_message_iframe_1100486\")\n",
    "\n",
    "# Full xpath\n",
    "button = driver.find_element(By.XPATH, '/html/body/div/div[2]/div[4]/button[3]')\n",
    "\n",
    "actions = ActionChains(driver)\n",
    "actions.click(button)\n",
    "\n",
    "actions.perform()\n",
    "\n",
    "time.sleep(3)\n",
    "previous_height = driver.execute_script('return document.body.scrollHeight')\n",
    "\n",
    "# Scrolling\n",
    "while True:\n",
    "    driver.execute_script('window.scrollTo(0, document.body.scrollHeight);')\n",
    "\n",
    "    time.sleep(3)\n",
    "\n",
    "    new_height = driver.execute_script('return document.body.scrollHeight')\n",
    "    \n",
    "    if new_height == previous_height:\n",
    "        break\n",
    "    \n",
    "    previous_height = new_height\n",
    "\n",
    "links = []\n",
    "\n",
    "soup=BeautifulSoup(driver.page_source)\n",
    "\n",
    "link = soup.find_all(class_=\"nv-post-thumbnail-wrap img-wrap\")\n",
    "\n",
    "for l in link: \n",
    "    links.append(l.next['href'])\n",
    "\n",
    "    \n",
    "driver.close()\n",
    "\n",
    "# print(links)"
   ]
  },
  {
   "cell_type": "code",
   "execution_count": 4,
   "id": "b041198c-3313-4a7a-986f-e5f6af39f1cd",
   "metadata": {},
   "outputs": [
    {
     "data": {
      "text/plain": [
       "2523"
      ]
     },
     "execution_count": 4,
     "metadata": {},
     "output_type": "execute_result"
    }
   ],
   "source": [
    "len(links)"
   ]
  },
  {
   "cell_type": "code",
   "execution_count": 10,
   "id": "0c6424ec-72c4-4a34-98ee-db218c300611",
   "metadata": {},
   "outputs": [],
   "source": [
    "f = open(\"links.txt\", \"a\")\n",
    "for l in links:\n",
    "    f.write(l + '\\n')\n",
    "f.close()"
   ]
  },
  {
   "cell_type": "code",
   "execution_count": 130,
   "id": "58db39e4-21a8-46e1-ad43-25bde5810abf",
   "metadata": {},
   "outputs": [
    {
     "data": {
      "text/plain": [
       "'https://www.datasciencecentral.com/dsc-weekly-16-april-2024/'"
      ]
     },
     "execution_count": 130,
     "metadata": {},
     "output_type": "execute_result"
    }
   ],
   "source": [
    "links[0]"
   ]
  },
  {
   "cell_type": "markdown",
   "id": "bf346544-817a-4780-8a90-f8d73cd7634c",
   "metadata": {},
   "source": [
    "# The code chunk below would take approximately five hours to run, do not rerun it unless neccessary"
   ]
  },
  {
   "cell_type": "code",
   "execution_count": 133,
   "id": "e26ac418-97fa-422b-a9cc-adadffb7ef3d",
   "metadata": {},
   "outputs": [],
   "source": [
    "from selenium.webdriver.chrome.options import Options\n",
    "\n",
    "df = pd.DataFrame(columns = ['title', 'text', 'link'])\n",
    "\n",
    "options = Options()\n",
    "options.add_argument('--headless')\n",
    "driver = webdriver.Chrome(options=options)\n",
    "\n",
    "for link in links:\n",
    "\n",
    "\n",
    "    driver.get(link)\n",
    "    \n",
    "    driver.implicitly_wait(3)\n",
    "    \n",
    "    try:\n",
    "        # Switch to iframe\n",
    "        frame = driver.find_elements(By.TAG_NAME, 'iframe') \n",
    "        driver.switch_to.frame(\"sp_message_iframe_1100486\")\n",
    "    \n",
    "        # Full xpath\n",
    "        button = driver.find_element(By.XPATH, '/html/body/div/div[2]/div[4]/button[3]')\n",
    "        \n",
    "        actions = ActionChains(driver)\n",
    "        actions.click(button)\n",
    "        \n",
    "        actions.perform()\n",
    "    except: \n",
    "        pass\n",
    "    \n",
    "    soup=BeautifulSoup(driver.page_source)\n",
    "    \n",
    "    passage = ''\n",
    "\n",
    "    if soup.find(class_ = 'nv-content-wrap entry-content') != None:\n",
    "        for p in soup.find(class_ = 'nv-content-wrap entry-content').children:\n",
    "            if p.string != None:\n",
    "                passage += p.string\n",
    "            else:\n",
    "                try:\n",
    "                    passage += p.text\n",
    "                except:\n",
    "                    pass\n",
    "\n",
    "                         \n",
    "    \n",
    "    df = pd.concat([df, pd.DataFrame([{'title': link.split('/')[3], 'text': passage, 'link': link}])]) \n",
    "    \n",
    "driver.close()\n",
    "\n",
    "df.to_csv('articles.csv', index=False)"
   ]
  },
  {
   "cell_type": "code",
   "execution_count": 135,
   "id": "6f0fc52d-2f90-41b3-8fb5-c643480d8c64",
   "metadata": {},
   "outputs": [
    {
     "data": {
      "text/html": [
       "<div>\n",
       "<style scoped>\n",
       "    .dataframe tbody tr th:only-of-type {\n",
       "        vertical-align: middle;\n",
       "    }\n",
       "\n",
       "    .dataframe tbody tr th {\n",
       "        vertical-align: top;\n",
       "    }\n",
       "\n",
       "    .dataframe thead th {\n",
       "        text-align: right;\n",
       "    }\n",
       "</style>\n",
       "<table border=\"1\" class=\"dataframe\">\n",
       "  <thead>\n",
       "    <tr style=\"text-align: right;\">\n",
       "      <th></th>\n",
       "      <th>title</th>\n",
       "      <th>text</th>\n",
       "      <th>link</th>\n",
       "    </tr>\n",
       "  </thead>\n",
       "  <tbody>\n",
       "    <tr>\n",
       "      <th>0</th>\n",
       "      <td>dsc-weekly-16-april-2024</td>\n",
       "      <td>\\n\\nAnnouncements\\n\\nIn today’s constantly evo...</td>\n",
       "      <td>https://www.datasciencecentral.com/dsc-weekly-...</td>\n",
       "    </tr>\n",
       "    <tr>\n",
       "      <th>1</th>\n",
       "      <td>using-window-functions-for-advanced-data-analysis</td>\n",
       "      <td>\\nWindow functions are an advanced feature of ...</td>\n",
       "      <td>https://www.datasciencecentral.com/using-windo...</td>\n",
       "    </tr>\n",
       "    <tr>\n",
       "      <th>2</th>\n",
       "      <td>get-ready-for-future-innovations-with-large-la...</td>\n",
       "      <td>\\nNowadays, almost all businesses use generati...</td>\n",
       "      <td>https://www.datasciencecentral.com/get-ready-f...</td>\n",
       "    </tr>\n",
       "    <tr>\n",
       "      <th>3</th>\n",
       "      <td>5-mistakes-to-avoid-in-cmmc-compliance</td>\n",
       "      <td>\\nThink of a battlefield — not filled with sol...</td>\n",
       "      <td>https://www.datasciencecentral.com/5-mistakes-...</td>\n",
       "    </tr>\n",
       "    <tr>\n",
       "      <th>4</th>\n",
       "      <td>building-reliable-and-efficient-etl-pipelines-...</td>\n",
       "      <td>\\nData is crucial for your business—it helps w...</td>\n",
       "      <td>https://www.datasciencecentral.com/building-re...</td>\n",
       "    </tr>\n",
       "    <tr>\n",
       "      <th>...</th>\n",
       "      <td>...</td>\n",
       "      <td>...</td>\n",
       "      <td>...</td>\n",
       "    </tr>\n",
       "    <tr>\n",
       "      <th>2518</th>\n",
       "      <td>digital-strategy-series-part-i-creating-a-data...</td>\n",
       "      <td>\\nOh, the strategy pundits hate me! It’s not b...</td>\n",
       "      <td>https://www.datasciencecentral.com/digital-str...</td>\n",
       "    </tr>\n",
       "    <tr>\n",
       "      <th>2519</th>\n",
       "      <td>statistics-used-in-data-science-a-dictionary-i...</td>\n",
       "      <td>\\nNaming conventions are often quite different...</td>\n",
       "      <td>https://www.datasciencecentral.com/statistics-...</td>\n",
       "    </tr>\n",
       "    <tr>\n",
       "      <th>2520</th>\n",
       "      <td>ai-superpowers-for-people-and-jobs</td>\n",
       "      <td>\\n \\nIntroduction\\nIn this post, I argue that\\...</td>\n",
       "      <td>https://www.datasciencecentral.com/ai-superpow...</td>\n",
       "    </tr>\n",
       "    <tr>\n",
       "      <th>2521</th>\n",
       "      <td>how-anonymous-is-anonymous-data</td>\n",
       "      <td>\\nThis post discusses what actually makes data...</td>\n",
       "      <td>https://www.datasciencecentral.com/how-anonymo...</td>\n",
       "    </tr>\n",
       "    <tr>\n",
       "      <th>2522</th>\n",
       "      <td>milvus-a-big-leap-to-scalable-ai-search-engine</td>\n",
       "      <td>\\n\\n\\nThe challenge with data search\\nThe expl...</td>\n",
       "      <td>https://www.datasciencecentral.com/milvus-a-bi...</td>\n",
       "    </tr>\n",
       "  </tbody>\n",
       "</table>\n",
       "<p>2523 rows × 3 columns</p>\n",
       "</div>"
      ],
      "text/plain": [
       "                                                  title  \\\n",
       "0                              dsc-weekly-16-april-2024   \n",
       "1     using-window-functions-for-advanced-data-analysis   \n",
       "2     get-ready-for-future-innovations-with-large-la...   \n",
       "3                5-mistakes-to-avoid-in-cmmc-compliance   \n",
       "4     building-reliable-and-efficient-etl-pipelines-...   \n",
       "...                                                 ...   \n",
       "2518  digital-strategy-series-part-i-creating-a-data...   \n",
       "2519  statistics-used-in-data-science-a-dictionary-i...   \n",
       "2520                 ai-superpowers-for-people-and-jobs   \n",
       "2521                    how-anonymous-is-anonymous-data   \n",
       "2522     milvus-a-big-leap-to-scalable-ai-search-engine   \n",
       "\n",
       "                                                   text  \\\n",
       "0     \\n\\nAnnouncements\\n\\nIn today’s constantly evo...   \n",
       "1     \\nWindow functions are an advanced feature of ...   \n",
       "2     \\nNowadays, almost all businesses use generati...   \n",
       "3     \\nThink of a battlefield — not filled with sol...   \n",
       "4     \\nData is crucial for your business—it helps w...   \n",
       "...                                                 ...   \n",
       "2518  \\nOh, the strategy pundits hate me! It’s not b...   \n",
       "2519  \\nNaming conventions are often quite different...   \n",
       "2520  \\n \\nIntroduction\\nIn this post, I argue that\\...   \n",
       "2521  \\nThis post discusses what actually makes data...   \n",
       "2522  \\n\\n\\nThe challenge with data search\\nThe expl...   \n",
       "\n",
       "                                                   link  \n",
       "0     https://www.datasciencecentral.com/dsc-weekly-...  \n",
       "1     https://www.datasciencecentral.com/using-windo...  \n",
       "2     https://www.datasciencecentral.com/get-ready-f...  \n",
       "3     https://www.datasciencecentral.com/5-mistakes-...  \n",
       "4     https://www.datasciencecentral.com/building-re...  \n",
       "...                                                 ...  \n",
       "2518  https://www.datasciencecentral.com/digital-str...  \n",
       "2519  https://www.datasciencecentral.com/statistics-...  \n",
       "2520  https://www.datasciencecentral.com/ai-superpow...  \n",
       "2521  https://www.datasciencecentral.com/how-anonymo...  \n",
       "2522  https://www.datasciencecentral.com/milvus-a-bi...  \n",
       "\n",
       "[2523 rows x 3 columns]"
      ]
     },
     "execution_count": 135,
     "metadata": {},
     "output_type": "execute_result"
    }
   ],
   "source": [
    "articles = pd.read_csv('articles.csv')\n",
    "articles"
   ]
  },
  {
   "cell_type": "code",
   "execution_count": 140,
   "id": "f8ebaf8b-835b-46bb-95af-092d41512f78",
   "metadata": {},
   "outputs": [
    {
     "data": {
      "text/plain": [
       "'\\nThis post discusses what actually makes data anonymous, share about the misconception we have of it and describe the problems it raises.\\n\\n\\n\\nIn the beginning, there was data\\nThe intent of anonymization is to\\xa0ensure the privacy of data. Companies use it to protect sensitive data. This category of data encompasses:\\n\\npersonal data,\\nbusiness information such as financial information or trade secrets,\\nclassified information such as military secrets or governmental information.\\n\\nSo, anonymization is for instance a way of complying with the privacy regulations related to personal data. Personal data and business data types can overlap. This is where lies customer information. But not all business data falls under regulations. I’ll focus here on\\xa0the protection of personal data.\\n\\n Example of sensitive data types\\nIn Europe,\\xa0regulators define as “personal data” any information that relates to someone (your name for example). Information linking to a person in any way also falls under that definition.\\nAs personal data collection democratized over the previous century, the\\xa0question of data anonymization\\xa0started to rise. The regulations coming into effect around the world sealed the importance of the matter.\\nWhat is data anonymization and why should we care?\\nLet’s begin with the classic definition. The EU’s General Data Protection Regulation (GDPR)\\xa0defines anonymized information\\xa0as follow:\\n\\n“information which does not relate to an identified or identifiable natural person or to personal data rendered anonymous in such a manner that the data subject is not or no longer identifiable.”\\n\\nThe “identifiable” and “no longer” parts are essential. It doesn’t only mean that your name shouldn’t appear in the data anymore. It also means that we shouldn’t be able to\\xa0figure out\\xa0who you are from the rest of the data. This refers to the process of re-identification (sometimes\\xa0de-anonymization).\\nThe same GDPR recital also states a very important fact:\\n\\n“[…] data protection should therefore not apply to anonymous information”.\\n\\nSo, if you manage to anonymize your data, you are no longer subject to GDPR data protection laws. You could perform any processing operations such as analysis or sales. This opens quite some opportunities:\\n\\nSelling data\\xa0is an obvious first use. Around the world, privacy regulations are restricting the trade of personal data. Anonymized data offers an alternative for companies.\\nIt represents an opportunity for\\xa0collaborative work. Many companies share data for innovation or research purposes. They can limit risks by using anonymized data.\\nIt also creates opportunities for\\xa0data analysis and Machine Learning. Getting access to private, yet compliant, data is hard. Anonymized data represents a safe raw material for statistical analysis and model training.\\n\\nThe opportunities are clear. But truly anonymized data is often\\xa0not what we think.\\nThe spectrum of data privacy mechanisms\\nPrivacy-preservation of data is a spectrum. Over the years, experts developed a collection of methods, mechanisms, and tools. These techniques produce data with\\xa0various levels of privacy and various risk levels of re-identification.\\xa0We could say it ranges from personally identifiable data to truly anonymized data.\\n\\n A spectrum of data privacy\\nOn one end, you have data that contains\\xa0direct personal identifiers. Those are elements from which we can identify you like name, address or telephone number. On the other end, you have the\\xa0anonymous data\\xa0that GDPR refers to.\\nBut there is an\\xa0intermediary category of data. It lives between identifiable and anonymized data: pseudonymized and de-identified data. Note that I’m not certain of this delimitation. Some presentations make\\xa0pseudonymization a part of de-identification,\\xa0some don’t.\\nIn itself, there is nothing wrong with the techniques to produce this “intermediary data”. They are\\xa0efficient data minimization techniques. Depending on the requirements of one’s use-cases, they will be relevant and useful.\\nWhat we need to keep in mind is the fact\\xa0they don’t produce truly anonymous data. Their mechanisms do not have the guarantee to prevent re-identification. And referring to the data they produce as “anonymous data”, is misleading.\\nThere is anonymous and “anonymous”\\nPseudonymization and de-identification are indeed a way of preserving certain aspects of data privacy. But they don’t produce anonymized data, per the GDPR definition.\\nPseudonymization techniques remove or replace the direct personal identifiers from the data. For instance, you delete all the names and emails from a dataset.\\xa0You can’t identify someone\\xa0directly\\xa0from pseudonymized data.\\nBut you can do it\\xa0indirectly. Indeed, the rest of the data often\\xa0retains indirect identifiers. These are information that you can combine to create direct identifiers. They could date of birth, zip codes, or gender for example.\\nFor that matter, pseudonymization has a\\xa0separate definition\\xa0within the GDPR framework.\\n\\n“[…] the processing of personal data in such a way that the data can no longer be attributed to a specific data subject without the use of additional information”.\\n\\nContrary to anonymous data, pseudonymous data falls under the GDPR regulations.\\nDe-identifications techniques remove both direct and indirect personal identifiers from the data. On paper, the frontier between de-identified data and anonymized data is simple. The latest offers technical safeguards that guarantee that\\xa0data can\\xa0never\\xa0be re-identified. It’s a “true until proven false”\\xa0kind of situation. De-identified data is somehow\\xa0anonymous\\xa0until it’s not.\\nAnd experts are pushing the line further every time they re-identify data that was de-identified.\\nData re-identifications keep on redefining\\xa0anonymous\\nThe mechanism types described above do not have the same effectiveness for privacy-preservation. Hence,\\xa0what\\xa0you intend to do with the data matters. Companies regularly release or sell data that they claim “anonymous”. It becomes a problem when the methods they used don’t guarantee that.\\nMany events showed that pseudonymized data was a poor privacy-preservation mechanism. The indirect identifiers in the data create a\\xa0strong risk for re-identification. And as available data volumes grow, so does the opportunities to cross-reference datasets:\\n\\nIn 1990, an\\xa0MIT graduate re-identified\\xa0the\\xa0Massachusetts Governor. He used de-identified medical dataset and census data.\\nIn 2006,\\xa0AOL\\xa0shared de-identified search data as part of a research initiative.\\xa0Researchers were able to\\xa0link search queries with the individuals behind them.\\nIn 2009,\\xa0Netflix\\xa0released an anonymized movie rating dataset\\xa0as part of a contest.\\xa0Texas researchers successfully re-identified the users.\\nIn 2009,\\xa0researches predict an individual’s\\xa0Social Security Number\\xa0using only publicly available information.\\n\\nRecently, studies showed that de-identified data also was, in fact, re-identifiable.\\xa0Researchers at UCL in Belgium and Imperial College London found that:\\n\\n“99.98% of Americans would be correctly re-identified in any dataset using 15 demographic attributes”.\\n\\nAnother study, conducted on anonymized cellphone data, showed that:\\n\\n“four spatio-temporal points are enough to uniquely identify 95% of the individuals”.\\n\\nTechnology is improving. More data is being created. As a result, researchers are pushing the delimitation between de-identified and anonymous data. In 2017,\\xa0researchers released a study stating\\xa0that:\\n\\n“web-browsing histories can be linked to social media profiles using only publicly available data.”\\n\\nAnother alarming point arises from the exposition of personal data through breaches. The amount of personal information leaked keeps on growing.\\nTaken separately some datasets aren’t re-identifiable. But combined with leaked data, they represent a larger threat.\\xa0Students from Harvard University were able to re-identify de-identi…\\xa0using leaked data.\\n\\n\\n\\n\\n\\nIn conclusion, what we consider “anonymous data”, is often not. Not all data sanitization methods generate truly anonymous data. Each presents its own advantages, but none offer the same level of privacy as anonymization. As we produce more data, it becomes harder to create truly anonymized data. And the risks of companies releasing potentially re-identifiable personal data grows.\\n\\n\\n\\n'"
      ]
     },
     "execution_count": 140,
     "metadata": {},
     "output_type": "execute_result"
    }
   ],
   "source": [
    "articles.iloc[2521,:]['text']"
   ]
  }
 ],
 "metadata": {
  "kernelspec": {
   "display_name": "Python 3 (ipykernel)",
   "language": "python",
   "name": "python3"
  },
  "language_info": {
   "codemirror_mode": {
    "name": "ipython",
    "version": 3
   },
   "file_extension": ".py",
   "mimetype": "text/x-python",
   "name": "python",
   "nbconvert_exporter": "python",
   "pygments_lexer": "ipython3",
   "version": "3.11.7"
  }
 },
 "nbformat": 4,
 "nbformat_minor": 5
}
